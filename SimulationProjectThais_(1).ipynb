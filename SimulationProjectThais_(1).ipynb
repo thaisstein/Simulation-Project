{
  "nbformat": 4,
  "nbformat_minor": 0,
  "metadata": {
    "colab": {
      "provenance": [],
      "include_colab_link": true
    },
    "kernelspec": {
      "name": "python3",
      "display_name": "Python 3"
    },
    "language_info": {
      "name": "python"
    }
  },
  "cells": [
    {
      "cell_type": "markdown",
      "metadata": {
        "id": "view-in-github",
        "colab_type": "text"
      },
      "source": [
        "<a href=\"https://colab.research.google.com/github/thaisstein/Simulation-Project/blob/main/SimulationProjectThais_(1).ipynb\" target=\"_parent\"><img src=\"https://colab.research.google.com/assets/colab-badge.svg\" alt=\"Open In Colab\"/></a>"
      ]
    },
    {
      "cell_type": "markdown",
      "source": [
        "## Installing and importing libraries"
      ],
      "metadata": {
        "id": "nrgj90HRUcDi"
      }
    },
    {
      "cell_type": "code",
      "source": [
        "!pip install simpy"
      ],
      "metadata": {
        "colab": {
          "base_uri": "https://localhost:8080/"
        },
        "id": "c1rQfATIhsM8",
        "outputId": "7ef6e863-ede1-4896-9901-1cefb6b22ad5"
      },
      "execution_count": 1,
      "outputs": [
        {
          "output_type": "stream",
          "name": "stdout",
          "text": [
            "Collecting simpy\n",
            "  Downloading simpy-4.1.1-py3-none-any.whl (27 kB)\n",
            "Installing collected packages: simpy\n",
            "Successfully installed simpy-4.1.1\n"
          ]
        }
      ]
    },
    {
      "cell_type": "code",
      "source": [
        "import sys\n",
        "import numpy as np\n",
        "import random\n",
        "import matplotlib\n",
        "import matplotlib.pyplot as plt\n",
        "from matplotlib import colors\n",
        "import math\n",
        "import pandas as pd\n",
        "import simpy\n",
        "import queue"
      ],
      "metadata": {
        "id": "_RSuJFzRi79c"
      },
      "execution_count": 3,
      "outputs": []
    },
    {
      "cell_type": "markdown",
      "source": [
        "## Creating packet as a tuple with its creation time (t), its sequence number(seqno), its packet size (pktSize)\n",
        "and the identifier of the source (ident)"
      ],
      "metadata": {
        "id": "2PmV3z9dVzjE"
      }
    },
    {
      "cell_type": "code",
      "source": [
        "class packet(object):\n",
        "  def __init__(self, t, ident, pktSize):\n",
        "    global seqno # global counter that increments when a packet is created\n",
        "    seqno += 1\n",
        "    self.t = t\n",
        "    self.ident = ident\n",
        "    self.pktSize = pktSize\n",
        "    self.seqno = seqno\n",
        "    packet_arrival_times.append(t)\n",
        "    print(f\"Packet arrived at time {t}, Sequence Number: {seqno}, Source ID: {ident}\")\n"
      ],
      "metadata": {
        "id": "eg5q0YLyVE5j"
      },
      "execution_count": 4,
      "outputs": []
    },
    {
      "cell_type": "markdown",
      "source": [
        "## Defining the queue"
      ],
      "metadata": {
        "id": "KkVNTsuQw_-r"
      }
    },
    {
      "cell_type": "code",
      "source": [
        "class queueClass(object): # buffer + server\n",
        "  def __init__(self, env, queueCapa, serviceRate):\n",
        "    self.env = env\n",
        "    self.inService = 0\n",
        "    self.buffer = queue.Queue(maxsize = queueCapa)\n",
        "    self.queueCapacity = queueCapa\n",
        "    self.serviceRate = serviceRate\n",
        "    self.lastChange = 0\n",
        "    self.response_times = {1: [], 2: [], 3: []}  # Average response times for each source\n",
        "\n",
        "  def service(self, source):\n",
        "    p = self.buffer.get() # extract packages from buffer\n",
        "    print(f\"Service started for packet {p.seqno} from Source {source} at time {self.env.now}\")\n",
        "    self.inService = 1 # service in process\n",
        "    service_start_times.append(self.env.now) # time the service i started\n",
        "    service_time = 1/self.serviceRate # random service time from an exponencial distribution\n",
        "    # of a mean 1.0, used to model time between events in a Poisson process, service time for the packet\n",
        "    yield self.env.timeout(service_time)\n",
        "    response_time = self.env.now - p.t\n",
        "    self.response_times[source].append(response_time)\n",
        "    del p\n",
        "\n",
        "    print(f\"Service completed at time {self.env.now}\")\n",
        "    if self.queueLength > 0: # still packets in the queue - recursion\n",
        "      self.env.process(self.service())\n",
        "    else:\n",
        "      self.inService = 0\n",
        "\n",
        "  def calculate_average_response_time(self):\n",
        "    for source, response_times in self.response_times.items():\n",
        "        if len(response_times) > 0:\n",
        "            average_response_time = sum(response_times) / len(response_times)\n",
        "            print(f\"Average Response Time for Source {source}: {average_response_time} seconds\")\n",
        "\n",
        "  def reception(self, source, pkt):\n",
        "    self.buffer.put(pkt)\n",
        "    if self.inService == 0:\n",
        "      print(f\"Packet added to the queue at time {self.env.now}, Sequence Number: {pkt.seqno}\")\n",
        "      self.env.process(self.service(pkt.ident))\n"
      ],
      "metadata": {
        "id": "17TSDoVlWTuo"
      },
      "execution_count": 12,
      "outputs": []
    },
    {
      "cell_type": "markdown",
      "source": [
        "## Defining Data Traffic as a Poisson source"
      ],
      "metadata": {
        "id": "pItHSd6FZ-V6"
      }
    },
    {
      "cell_type": "code",
      "source": [
        "class dataTraffic(object):\n",
        "  def __init__(self, env, rate, q, ident, pktSize):\n",
        "    self.env = env\n",
        "    self.rate = rate\n",
        "    self.q = q\n",
        "    self.ident = ident\n",
        "    self.pktSize = pktSize\n",
        "\n",
        "    self.nbEmissions= 0\n",
        "    self.queueLosses = 0\n",
        "    self.action = env.process(self.run())\n",
        "\n",
        "  def run(self):\n",
        "    while True:\n",
        "      poisson_arrival_time = np.random.exponential(1.0/self.rate) # Poisson\n",
        "      yield self.env.timeout(poisson_arrival_time)\n",
        "\n",
        "      packet_lengths = [50, 500, 1500]  # in bytes\n",
        "      packet_probs = [0.4, 0.3, 0.3]\n",
        "      pktSize = np.random.choice(packet_lengths, p=packet_probs)\n",
        "      p = packet(self.env.now, self.ident, self.pktSize)\n",
        "\n",
        "      self.q.reception(self, p)\n",
        "      self.nbEmissions += 1\n"
      ],
      "metadata": {
        "id": "nfQsmUsaaop0"
      },
      "execution_count": 6,
      "outputs": []
    },
    {
      "cell_type": "markdown",
      "source": [
        "## Defining Voice Traffic as a constant source"
      ],
      "metadata": {
        "id": "Aomdb6h8frqp"
      }
    },
    {
      "cell_type": "code",
      "source": [
        "class voiceTraffic(object):\n",
        "  def __init__(self, env, rate, q, ident, pktSize):\n",
        "    self.env = env\n",
        "    self.rate = rate\n",
        "    self.q = q\n",
        "    self.ident = ident\n",
        "    self.pktSize = pktSize\n",
        "\n",
        "    self.nbEmissions= 0\n",
        "    self.queueLosses = 0\n",
        "    self.cpterPrintLR = 0\n",
        "\n",
        "    self.action = env.process(self.run())\n",
        "\n",
        "  def run(self):\n",
        "    while True:\n",
        "      constant_arrival_time = 1 / (self.rate / (self.pktSize * 8)) # Constant\n",
        "      yield self.env.timeout(constant_arrival_time)\n",
        "      p = packet(self.env.now, self.ident, self.pktSize)\n",
        "      self.q.reception(self, p)\n",
        "      self.nbEmissions += 1\n"
      ],
      "metadata": {
        "id": "74iiymzUgGf5"
      },
      "execution_count": 7,
      "outputs": []
    },
    {
      "cell_type": "markdown",
      "source": [
        "## Defining Video Traffic as highly bursty ON/OFF source exponencially distributed."
      ],
      "metadata": {
        "id": "Fqljxt3qi6UF"
      }
    },
    {
      "cell_type": "code",
      "source": [
        "class videoTraffic(object):\n",
        "  def __init__(self, env, rate, q, ident, pktSize):\n",
        "    self.env = env\n",
        "    self.rate = rate\n",
        "    self.q = q\n",
        "    self.pktSize = pktSize\n",
        "    self.ident = ident\n",
        "\n",
        "    self.nbEmissions= 0\n",
        "    self.queueLosses = 0\n",
        "    self.cpterPrintLR = 0\n",
        "    self.transmission_time = 30e6  # Adjust the peak rate as needed\n",
        "\n",
        "    self.ton =  1e-3  # average duration of \"ON\" periods\n",
        "    self.toff = np.random.exponential(0.2)  # average duration of \"OFF\" periods\n",
        "    self.action = env.process(self.run())\n",
        "    self.burstiness = 0\n",
        "\n",
        "  def run(self):\n",
        "    while True:\n",
        "      yield self.env.timeout(self.ton)\n",
        "      yield self.env.timeout(transmission_time)\n",
        "      p = packet(self.env.now,t,self.ident, self.pktSize)\n",
        "      self.q.reception(self, p)\n",
        "      self.nbEmissions += 1\n",
        "      seqno += 1\n",
        "\n",
        "      yield self.env.timeout(self.toff)\n",
        "      self.burstiness = ((on_duration + off_duration) / on_duration)\n",
        "      self.peak_rate = burstiness * rate\n",
        "      # Calculate the time needed to transmit the packet at the peak rate\n",
        "      response_time = (self.pktSize * 8 / self.peak_rate) # bytes to bits\n",
        "\n",
        "      print(\"Burstiness is\", burstiness)\n"
      ],
      "metadata": {
        "id": "c1tEO-aJjhgQ"
      },
      "execution_count": 8,
      "outputs": []
    },
    {
      "cell_type": "markdown",
      "source": [
        "## Running"
      ],
      "metadata": {
        "id": "jksfrkIDdx4o"
      }
    },
    {
      "cell_type": "code",
      "source": [
        "simulationDuration = 10\n",
        "seqno = 0\n",
        "np.random.seed(10)\n",
        "packet_arrival_times = []\n",
        "service_start_times = []\n",
        "queueCapa = float('inf') # infinite\n",
        "serviceRate = 100e6 # 100 Mbps\n",
        "\n",
        "env = simpy.Environment()\n",
        "q = queueClass(env,queueCapa,serviceRate)\n",
        "s1 = dataTraffic(env,30e6,q,1,1) #pkt size changes\n",
        "s2 = voiceTraffic(env,20e6,q,100,2)\n",
        "s3 = videoTraffic(env,30e6,q,1000,3)\n",
        "\n",
        "env.run(until=simulationDuration)\n",
        "\n",
        "queue.calculate_average_response_time()\n",
        "\n",
        "\n",
        "# Plot service start times, packet arrival times, and loss rate on the same graph\n",
        "#plt.plot(packet_arrival_times, color='blue', alpha=0.7, label='Packet Arrival')\n",
        "#plt.plot(service_start_times,color='red', alpha=0.7, label='Service Start')\n",
        "#plt.axvline(loss_rate, color='green', linestyle='dashed', linewidth=2, label=f'Loss Rate: {loss_rate:.2f}')\n",
        "\n",
        "#plt.xlabel('Time')\n",
        "#plt.ylabel('Frequency')\n",
        "#plt.title('Packet Arrival, Service Start')\n",
        "#plt.grid(True)\n",
        "#plt.legend()\n",
        "#plt.show()"
      ],
      "metadata": {
        "id": "hjOFRprJAxCy",
        "colab": {
          "base_uri": "https://localhost:8080/",
          "height": 494
        },
        "outputId": "05c638d2-6155-4261-9ffd-cc5120379524"
      },
      "execution_count": 13,
      "outputs": [
        {
          "output_type": "stream",
          "name": "stdout",
          "text": [
            "Packet arrived at time 6.990099034630943e-10, Sequence Number: 1, Source ID: 1\n",
            "Packet added to the queue at time 6.990099034630943e-10, Sequence Number: 1\n",
            "Service started for packet 1 from Source 1 at time 6.990099034630943e-10\n"
          ]
        },
        {
          "output_type": "error",
          "ename": "AttributeError",
          "evalue": "ignored",
          "traceback": [
            "\u001b[0;31m---------------------------------------------------------------------------\u001b[0m",
            "\u001b[0;31mAttributeError\u001b[0m                            Traceback (most recent call last)",
            "\u001b[0;32m<ipython-input-12-9325960a5941>\u001b[0m in \u001b[0;36mservice\u001b[0;34m(self, source)\u001b[0m\n\u001b[1;32m     23\u001b[0m \u001b[0;34m\u001b[0m\u001b[0m\n\u001b[0;32m---> 24\u001b[0;31m     \u001b[0mself\u001b[0m\u001b[0;34m.\u001b[0m\u001b[0mqueueLength\u001b[0m \u001b[0;34m=\u001b[0m \u001b[0mself\u001b[0m\u001b[0;34m.\u001b[0m\u001b[0mqueueLength\u001b[0m \u001b[0;34m-\u001b[0m \u001b[0mp\u001b[0m\u001b[0;34m.\u001b[0m\u001b[0mpktSize\u001b[0m\u001b[0;34m\u001b[0m\u001b[0;34m\u001b[0m\u001b[0m\n\u001b[0m\u001b[1;32m     25\u001b[0m     \u001b[0;32mdel\u001b[0m \u001b[0mp\u001b[0m\u001b[0;34m\u001b[0m\u001b[0;34m\u001b[0m\u001b[0m\n",
            "\u001b[0;31mAttributeError\u001b[0m: 'queueClass' object has no attribute 'queueLength'",
            "\nThe above exception was the direct cause of the following exception:\n",
            "\u001b[0;31mAttributeError\u001b[0m                            Traceback (most recent call last)",
            "\u001b[0;32m<ipython-input-13-fb6934c16faf>\u001b[0m in \u001b[0;36m<cell line: 15>\u001b[0;34m()\u001b[0m\n\u001b[1;32m     13\u001b[0m \u001b[0ms3\u001b[0m \u001b[0;34m=\u001b[0m \u001b[0mvideoTraffic\u001b[0m\u001b[0;34m(\u001b[0m\u001b[0menv\u001b[0m\u001b[0;34m,\u001b[0m\u001b[0;36m30e6\u001b[0m\u001b[0;34m,\u001b[0m\u001b[0mq\u001b[0m\u001b[0;34m,\u001b[0m\u001b[0;36m1000\u001b[0m\u001b[0;34m,\u001b[0m\u001b[0;36m3\u001b[0m\u001b[0;34m)\u001b[0m\u001b[0;34m\u001b[0m\u001b[0;34m\u001b[0m\u001b[0m\n\u001b[1;32m     14\u001b[0m \u001b[0;34m\u001b[0m\u001b[0m\n\u001b[0;32m---> 15\u001b[0;31m \u001b[0menv\u001b[0m\u001b[0;34m.\u001b[0m\u001b[0mrun\u001b[0m\u001b[0;34m(\u001b[0m\u001b[0muntil\u001b[0m\u001b[0;34m=\u001b[0m\u001b[0msimulationDuration\u001b[0m\u001b[0;34m)\u001b[0m\u001b[0;34m\u001b[0m\u001b[0;34m\u001b[0m\u001b[0m\n\u001b[0m\u001b[1;32m     16\u001b[0m \u001b[0;34m\u001b[0m\u001b[0m\n\u001b[1;32m     17\u001b[0m \u001b[0mqueue\u001b[0m\u001b[0;34m.\u001b[0m\u001b[0mcalculate_average_response_time\u001b[0m\u001b[0;34m(\u001b[0m\u001b[0;34m)\u001b[0m\u001b[0;34m\u001b[0m\u001b[0;34m\u001b[0m\u001b[0m\n",
            "\u001b[0;32m/usr/local/lib/python3.10/dist-packages/simpy/core.py\u001b[0m in \u001b[0;36mrun\u001b[0;34m(self, until)\u001b[0m\n\u001b[1;32m    244\u001b[0m         \u001b[0;32mtry\u001b[0m\u001b[0;34m:\u001b[0m\u001b[0;34m\u001b[0m\u001b[0;34m\u001b[0m\u001b[0m\n\u001b[1;32m    245\u001b[0m             \u001b[0;32mwhile\u001b[0m \u001b[0;32mTrue\u001b[0m\u001b[0;34m:\u001b[0m\u001b[0;34m\u001b[0m\u001b[0;34m\u001b[0m\u001b[0m\n\u001b[0;32m--> 246\u001b[0;31m                 \u001b[0mself\u001b[0m\u001b[0;34m.\u001b[0m\u001b[0mstep\u001b[0m\u001b[0;34m(\u001b[0m\u001b[0;34m)\u001b[0m\u001b[0;34m\u001b[0m\u001b[0;34m\u001b[0m\u001b[0m\n\u001b[0m\u001b[1;32m    247\u001b[0m         \u001b[0;32mexcept\u001b[0m \u001b[0mStopSimulation\u001b[0m \u001b[0;32mas\u001b[0m \u001b[0mexc\u001b[0m\u001b[0;34m:\u001b[0m\u001b[0;34m\u001b[0m\u001b[0;34m\u001b[0m\u001b[0m\n\u001b[1;32m    248\u001b[0m             \u001b[0;32mreturn\u001b[0m \u001b[0mexc\u001b[0m\u001b[0;34m.\u001b[0m\u001b[0margs\u001b[0m\u001b[0;34m[\u001b[0m\u001b[0;36m0\u001b[0m\u001b[0;34m]\u001b[0m  \u001b[0;31m# == until.value\u001b[0m\u001b[0;34m\u001b[0m\u001b[0;34m\u001b[0m\u001b[0m\n",
            "\u001b[0;32m/usr/local/lib/python3.10/dist-packages/simpy/core.py\u001b[0m in \u001b[0;36mstep\u001b[0;34m(self)\u001b[0m\n\u001b[1;32m    202\u001b[0m             \u001b[0mexc\u001b[0m \u001b[0;34m=\u001b[0m \u001b[0mtype\u001b[0m\u001b[0;34m(\u001b[0m\u001b[0mevent\u001b[0m\u001b[0;34m.\u001b[0m\u001b[0m_value\u001b[0m\u001b[0;34m)\u001b[0m\u001b[0;34m(\u001b[0m\u001b[0;34m*\u001b[0m\u001b[0mevent\u001b[0m\u001b[0;34m.\u001b[0m\u001b[0m_value\u001b[0m\u001b[0;34m.\u001b[0m\u001b[0margs\u001b[0m\u001b[0;34m)\u001b[0m\u001b[0;34m\u001b[0m\u001b[0;34m\u001b[0m\u001b[0m\n\u001b[1;32m    203\u001b[0m             \u001b[0mexc\u001b[0m\u001b[0;34m.\u001b[0m\u001b[0m__cause__\u001b[0m \u001b[0;34m=\u001b[0m \u001b[0mevent\u001b[0m\u001b[0;34m.\u001b[0m\u001b[0m_value\u001b[0m\u001b[0;34m\u001b[0m\u001b[0;34m\u001b[0m\u001b[0m\n\u001b[0;32m--> 204\u001b[0;31m             \u001b[0;32mraise\u001b[0m \u001b[0mexc\u001b[0m\u001b[0;34m\u001b[0m\u001b[0;34m\u001b[0m\u001b[0m\n\u001b[0m\u001b[1;32m    205\u001b[0m \u001b[0;34m\u001b[0m\u001b[0m\n\u001b[1;32m    206\u001b[0m     \u001b[0;32mdef\u001b[0m \u001b[0mrun\u001b[0m\u001b[0;34m(\u001b[0m\u001b[0mself\u001b[0m\u001b[0;34m,\u001b[0m \u001b[0muntil\u001b[0m\u001b[0;34m:\u001b[0m \u001b[0mOptional\u001b[0m\u001b[0;34m[\u001b[0m\u001b[0mUnion\u001b[0m\u001b[0;34m[\u001b[0m\u001b[0mSimTime\u001b[0m\u001b[0;34m,\u001b[0m \u001b[0mEvent\u001b[0m\u001b[0;34m]\u001b[0m\u001b[0;34m]\u001b[0m \u001b[0;34m=\u001b[0m \u001b[0;32mNone\u001b[0m\u001b[0;34m)\u001b[0m \u001b[0;34m->\u001b[0m \u001b[0mOptional\u001b[0m\u001b[0;34m[\u001b[0m\u001b[0mAny\u001b[0m\u001b[0;34m]\u001b[0m\u001b[0;34m:\u001b[0m\u001b[0;34m\u001b[0m\u001b[0;34m\u001b[0m\u001b[0m\n",
            "\u001b[0;31mAttributeError\u001b[0m: 'queueClass' object has no attribute 'queueLength'"
          ]
        }
      ]
    },
    {
      "cell_type": "markdown",
      "source": [],
      "metadata": {
        "id": "R20ioQbIE5bR"
      }
    },
    {
      "cell_type": "markdown",
      "source": [
        "\n",
        "\n",
        "For each average response time, that is related to a b value, you have to calculate the epsilont and then the epsilonT"
      ],
      "metadata": {
        "id": "UNxyLrTFFfNh"
      }
    }
  ]
}